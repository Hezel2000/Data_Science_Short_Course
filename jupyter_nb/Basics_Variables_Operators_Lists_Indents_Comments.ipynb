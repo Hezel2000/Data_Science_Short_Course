{
 "cells": [
  {
   "cell_type": "markdown",
   "id": "de1f773c",
   "metadata": {},
   "source": [
    "## Basics- Variables, Operators, Lists, Comments & Indents"
   ]
  },
  {
   "cell_type": "markdown",
   "id": "b61601f3",
   "metadata": {},
   "source": [
    "### Variables"
   ]
  },
  {
   "cell_type": "code",
   "execution_count": 16,
   "id": "5f5a40cb",
   "metadata": {},
   "outputs": [
    {
     "name": "stdout",
     "output_type": "stream",
     "text": [
      "4\n",
      "-2\n"
     ]
    }
   ],
   "source": [
    "a3 = 3 - 5\n",
    "\n",
    "a_3 = 4\n",
    "\n",
    "print(a_3)\n",
    "print(a3)"
   ]
  },
  {
   "cell_type": "markdown",
   "id": "32266312",
   "metadata": {},
   "source": [
    "### Operators"
   ]
  },
  {
   "cell_type": "code",
   "execution_count": 20,
   "id": "bbf96421",
   "metadata": {},
   "outputs": [
    {
     "data": {
      "text/plain": [
       "0.875"
      ]
     },
     "execution_count": 20,
     "metadata": {},
     "output_type": "execute_result"
    }
   ],
   "source": [
    "4 + 5\n",
    "\n",
    "7 / 8"
   ]
  },
  {
   "cell_type": "markdown",
   "id": "8017697b",
   "metadata": {},
   "source": [
    "### Lists"
   ]
  },
  {
   "cell_type": "code",
   "execution_count": 33,
   "id": "7256d140",
   "metadata": {},
   "outputs": [
    {
     "data": {
      "text/plain": [
       "20.15"
      ]
     },
     "execution_count": 33,
     "metadata": {},
     "output_type": "execute_result"
    }
   ],
   "source": [
    "mg = [\n",
    "  [17.8, 19.4, 22.1],\n",
    "  [16.3, 20.9, 18.5]\n",
    "]\n",
    "\n",
    "(mg[0][1] + mg[1][1]) / 2"
   ]
  },
  {
   "cell_type": "code",
   "execution_count": null,
   "id": "82857eb5",
   "metadata": {},
   "outputs": [],
   "source": [
    "{'Mg': 45, 'Si': 43}"
   ]
  },
  {
   "cell_type": "markdown",
   "id": "ed7a03e1",
   "metadata": {},
   "source": [
    "### Indents"
   ]
  },
  {
   "cell_type": "code",
   "execution_count": 37,
   "id": "70b21df2",
   "metadata": {},
   "outputs": [
    {
     "name": "stdout",
     "output_type": "stream",
     "text": [
      "2\n"
     ]
    }
   ],
   "source": [
    "a = 2\n",
    "\n",
    "if a < 3:\n",
    "    print(a)"
   ]
  },
  {
   "cell_type": "markdown",
   "id": "a1294681",
   "metadata": {},
   "source": [
    "### Kommentare"
   ]
  },
  {
   "cell_type": "code",
   "execution_count": 41,
   "id": "237f2882",
   "metadata": {},
   "outputs": [
    {
     "data": {
      "text/plain": [
       "20.15"
      ]
     },
     "execution_count": 41,
     "metadata": {},
     "output_type": "execute_result"
    }
   ],
   "source": [
    "mg = [[17.8, 19.4, 22.1], [16.3, 20.9, 18.5]] # Dies ist ein Kommentar\n",
    "\n",
    "(mg[0][1] + mg[1][1]) / 2"
   ]
  }
 ],
 "metadata": {
  "kernelspec": {
   "display_name": "Python 3 (ipykernel)",
   "language": "python",
   "name": "python3"
  },
  "language_info": {
   "codemirror_mode": {
    "name": "ipython",
    "version": 3
   },
   "file_extension": ".py",
   "mimetype": "text/x-python",
   "name": "python",
   "nbconvert_exporter": "python",
   "pygments_lexer": "ipython3",
   "version": "3.8.5"
  }
 },
 "nbformat": 4,
 "nbformat_minor": 5
}
